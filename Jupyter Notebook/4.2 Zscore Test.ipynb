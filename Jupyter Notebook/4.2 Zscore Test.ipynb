{
 "cells": [
  {
   "cell_type": "markdown",
   "id": "32680c09",
   "metadata": {},
   "source": [
    "**Loading Libraries and Datasets**"
   ]
  },
  {
   "cell_type": "code",
   "execution_count": 1,
   "id": "4f89a2b5",
   "metadata": {},
   "outputs": [],
   "source": [
    "import numpy as np\n",
    "import pandas as pd\n",
    "import csv\n",
    "import json\n",
    "import statistics \n",
    "import os"
   ]
  },
  {
   "cell_type": "code",
   "execution_count": 2,
   "id": "7352af25",
   "metadata": {},
   "outputs": [],
   "source": [
    "with open('../Dataset/neighbors.csv', newline='') as f:\n",
    "    reader = csv.reader(f)\n",
    "    neighbor_list = list(reader)"
   ]
  },
  {
   "cell_type": "code",
   "execution_count": 3,
   "id": "e937c2c9",
   "metadata": {},
   "outputs": [],
   "source": [
    "neighbor={}\n",
    "for i in range(1,35):\n",
    "    neighbor[neighbor_list[i][0]]=neighbor_list[i][1:]"
   ]
  },
  {
   "cell_type": "code",
   "execution_count": 4,
   "id": "efb0e358",
   "metadata": {},
   "outputs": [],
   "source": [
    "not_present=['Manipur','Sikkim']\n",
    "all_state_present=neighbor.keys()-not_present\n",
    "temp={}\n",
    "for i in all_state_present:\n",
    "    temp[i]=[j for j in neighbor[i] if j not in not_present ]\n",
    "neighbor=temp"
   ]
  },
  {
   "cell_type": "code",
   "execution_count": 5,
   "id": "26b15ed2",
   "metadata": {},
   "outputs": [],
   "source": [
    "data=pd.read_csv('../Dataset/Decadal_Air_data_states.csv')"
   ]
  },
  {
   "cell_type": "markdown",
   "id": "ec83697b",
   "metadata": {},
   "source": [
    "**Finding Mean Pollutant Concentration**"
   ]
  },
  {
   "cell_type": "code",
   "execution_count": 6,
   "id": "38c2e1f6",
   "metadata": {},
   "outputs": [],
   "source": [
    "data['Mpc']=(data['SO2']+data['NO2']+data['PM2.5'])/3"
   ]
  },
  {
   "cell_type": "markdown",
   "id": "b2a23211",
   "metadata": {},
   "source": [
    "**Finding Z-score**\n",
    "\n",
    "1) Finding Mpc of all Neighbor of a particular state in a particular year\n",
    "\n",
    "2) Calculate mean and standard Deviation of Neighbor Mpc\n",
    "\n",
    "3) Calculating Z-score with this formula \n"
   ]
  },
  {
   "cell_type": "markdown",
   "id": "1e45f3aa",
   "metadata": {},
   "source": [
    "$Z-Score=\\frac{(\\mu-\\sigma)^2}{\\sigma}$ "
   ]
  },
  {
   "cell_type": "markdown",
   "id": "ff97213c",
   "metadata": {},
   "source": [
    "**Finding HotSpot and ColdSpot**\n",
    "\n",
    "1) If Mpc of a state is less than Mpc mean of neighbor State + half the std deviation of Neighbor Mpc then it is a Coldspot and represent by -1\n",
    "\n",
    "2) If Mpc of a state is more than Mpc mean of neighbor State + half the std deviation of Neighbor Mpc then it is a Hotspot and represent by 1\n",
    "\n",
    "3) Else its a neural spot represent by 0"
   ]
  },
  {
   "cell_type": "code",
   "execution_count": 7,
   "id": "2506191c",
   "metadata": {},
   "outputs": [],
   "source": [
    "data['zscore']=np.nan\n",
    "data['spot']=np.nan"
   ]
  },
  {
   "cell_type": "code",
   "execution_count": 8,
   "id": "60117b44",
   "metadata": {},
   "outputs": [],
   "source": [
    "for i in range(len(data)):\n",
    "    State=data.iloc[i]['State']\n",
    "    year=data.iloc[i]['year']\n",
    "    mpc=data.iloc[i]['Mpc']\n",
    "    nbr_mpc=[]    \n",
    "    for ele in neighbor[State]:\n",
    "        nbr_mpc.append(data[(data.State==ele)&(data.year==year)]['Mpc'].values[0])\n",
    "    if(len(nbr_mpc)<2):\n",
    "        nbr_mean=round(nbr_mpc[0],3)\n",
    "        nbr_std=round(0,3)\n",
    "        zscore=round(0,3)\n",
    "    else:\n",
    "        nbr_mean=round(statistics.mean(nbr_mpc),3)\n",
    "        nbr_std=round(statistics.stdev(nbr_mpc,nbr_mean),3)\n",
    "        zscore = round((mpc-nbr_mean)/nbr_std,3)\n",
    "    if (mpc>(nbr_mean+(nbr_std)/2)):\n",
    "        spot = 1\n",
    "    elif(mpc<(nbr_mean-(nbr_std)/2)):\n",
    "        spot = -1\n",
    "    else:\n",
    "        spot=0\n",
    "    data.loc[i,'zscore']=zscore\n",
    "    data.loc[i,'spot']=spot\n",
    "    "
   ]
  },
  {
   "cell_type": "code",
   "execution_count": 9,
   "id": "41e7f891",
   "metadata": {},
   "outputs": [],
   "source": [
    "data.columns=['State', 'Year', 'SO2', 'NO2', 'PM2.5', 'Mpc', 'zscore', 'spot']"
   ]
  },
  {
   "cell_type": "markdown",
   "id": "2334afa3",
   "metadata": {},
   "source": [
    "**Finding Topmost Hotspot and Coldspot**"
   ]
  },
  {
   "cell_type": "code",
   "execution_count": 10,
   "id": "0bb6ebe4",
   "metadata": {},
   "outputs": [],
   "source": [
    "sort_data=data.sort_values(['Year','zscore'],ascending=[True, False])\n",
    "sort_data.reset_index(drop=True,inplace=True)"
   ]
  },
  {
   "cell_type": "code",
   "execution_count": 11,
   "id": "fbbdf472",
   "metadata": {},
   "outputs": [],
   "source": [
    "topSpots_df = pd.DataFrame(columns=['Year','spot','State1','State2','State3','State4','State5'])\n",
    "i=0\n",
    "while(i<310):\n",
    "    hotstate_list=[]\n",
    "    coldstate_list=[]\n",
    "    hotstate = sort_data[i:i+5]\n",
    "    coldstate = sort_data[i+26:i+31]\n",
    "    year_id = str(int(hotstate.iloc[0]['Year']))\n",
    "    hotstate_list=list(hotstate['State'])\n",
    "    coldstate_list=list(coldstate['State'])\n",
    "    topSpots_df=topSpots_df.append({'Year':year_id,'spot': 'hot','State1':hotstate_list[0],'State2':hotstate_list[1],'State3':hotstate_list[2],'State4':hotstate_list[3],'State5':hotstate_list[4]},ignore_index=True)\n",
    "    topSpots_df=topSpots_df.append({'Year':year_id,'spot': 'cold','State1':coldstate_list[0],'State2':coldstate_list[1],'State3':coldstate_list[2],'State4':coldstate_list[3],'State5':coldstate_list[4]},ignore_index=True)  \n",
    "    i+=31"
   ]
  },
  {
   "cell_type": "code",
   "execution_count": 12,
   "id": "f945f87b",
   "metadata": {},
   "outputs": [],
   "source": [
    "topSpots_df.to_csv(\"../Dataset/Generated/zscore/TopSpots.csv\",index=False)"
   ]
  },
  {
   "cell_type": "code",
   "execution_count": 13,
   "id": "933425b4",
   "metadata": {},
   "outputs": [],
   "source": [
    "data.to_csv(\"../Dataset/Generated/zscore/Air_Quality_Mpc_zscore.csv\",index=False)"
   ]
  },
  {
   "cell_type": "code",
   "execution_count": 14,
   "id": "4e24e024",
   "metadata": {},
   "outputs": [],
   "source": [
    "state_co=pd.read_csv('../Dataset/State-Coordinates.csv')"
   ]
  },
  {
   "cell_type": "code",
   "execution_count": 15,
   "id": "d9c83562",
   "metadata": {},
   "outputs": [],
   "source": [
    "data.merge(state_co,on=['State']).to_csv(\"../Generate Map/Datasets/zscore.csv\",index=False)"
   ]
  }
 ],
 "metadata": {
  "kernelspec": {
   "display_name": "Python 3",
   "language": "python",
   "name": "python3"
  },
  "language_info": {
   "codemirror_mode": {
    "name": "ipython",
    "version": 3
   },
   "file_extension": ".py",
   "mimetype": "text/x-python",
   "name": "python",
   "nbconvert_exporter": "python",
   "pygments_lexer": "ipython3",
   "version": "3.8.8"
  }
 },
 "nbformat": 4,
 "nbformat_minor": 5
}
