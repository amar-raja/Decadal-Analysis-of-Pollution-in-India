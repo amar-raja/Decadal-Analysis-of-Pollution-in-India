{
 "cells": [
  {
   "cell_type": "markdown",
   "id": "b80624cf",
   "metadata": {},
   "source": [
    "**Loading Libraries And Dataset**"
   ]
  },
  {
   "cell_type": "code",
   "execution_count": 1,
   "id": "6a951c61",
   "metadata": {},
   "outputs": [],
   "source": [
    "import numpy as np\n",
    "import pandas as pd\n",
    "import csv\n",
    "import json\n",
    "import statistics \n",
    "from scipy.stats import chi2\n",
    "import os"
   ]
  },
  {
   "cell_type": "code",
   "execution_count": 2,
   "id": "cb7dc690",
   "metadata": {},
   "outputs": [],
   "source": [
    "data=pd.read_csv('../Dataset/Decadal_Air_data_states.csv')"
   ]
  },
  {
   "cell_type": "code",
   "execution_count": 3,
   "id": "4b088434",
   "metadata": {},
   "outputs": [
    {
     "data": {
      "text/html": [
       "<div>\n",
       "<style scoped>\n",
       "    .dataframe tbody tr th:only-of-type {\n",
       "        vertical-align: middle;\n",
       "    }\n",
       "\n",
       "    .dataframe tbody tr th {\n",
       "        vertical-align: top;\n",
       "    }\n",
       "\n",
       "    .dataframe thead th {\n",
       "        text-align: right;\n",
       "    }\n",
       "</style>\n",
       "<table border=\"1\" class=\"dataframe\">\n",
       "  <thead>\n",
       "    <tr style=\"text-align: right;\">\n",
       "      <th></th>\n",
       "      <th>State</th>\n",
       "      <th>year</th>\n",
       "      <th>SO2</th>\n",
       "      <th>NO2</th>\n",
       "      <th>PM2.5</th>\n",
       "    </tr>\n",
       "  </thead>\n",
       "  <tbody>\n",
       "    <tr>\n",
       "      <th>0</th>\n",
       "      <td>Andhra Pradesh</td>\n",
       "      <td>2011</td>\n",
       "      <td>6.917445</td>\n",
       "      <td>14.339150</td>\n",
       "      <td>70.653459</td>\n",
       "    </tr>\n",
       "    <tr>\n",
       "      <th>1</th>\n",
       "      <td>Andhra Pradesh</td>\n",
       "      <td>2012</td>\n",
       "      <td>7.021031</td>\n",
       "      <td>14.911603</td>\n",
       "      <td>72.703588</td>\n",
       "    </tr>\n",
       "    <tr>\n",
       "      <th>2</th>\n",
       "      <td>Andhra Pradesh</td>\n",
       "      <td>2013</td>\n",
       "      <td>7.067833</td>\n",
       "      <td>15.658970</td>\n",
       "      <td>70.840641</td>\n",
       "    </tr>\n",
       "    <tr>\n",
       "      <th>3</th>\n",
       "      <td>Andhra Pradesh</td>\n",
       "      <td>2014</td>\n",
       "      <td>7.587378</td>\n",
       "      <td>18.105960</td>\n",
       "      <td>73.421301</td>\n",
       "    </tr>\n",
       "    <tr>\n",
       "      <th>4</th>\n",
       "      <td>Andhra Pradesh</td>\n",
       "      <td>2015</td>\n",
       "      <td>7.205587</td>\n",
       "      <td>21.808934</td>\n",
       "      <td>74.846019</td>\n",
       "    </tr>\n",
       "    <tr>\n",
       "      <th>...</th>\n",
       "      <td>...</td>\n",
       "      <td>...</td>\n",
       "      <td>...</td>\n",
       "      <td>...</td>\n",
       "      <td>...</td>\n",
       "    </tr>\n",
       "    <tr>\n",
       "      <th>305</th>\n",
       "      <td>West Bengal</td>\n",
       "      <td>2016</td>\n",
       "      <td>6.975688</td>\n",
       "      <td>44.003759</td>\n",
       "      <td>83.476065</td>\n",
       "    </tr>\n",
       "    <tr>\n",
       "      <th>306</th>\n",
       "      <td>West Bengal</td>\n",
       "      <td>2017</td>\n",
       "      <td>6.064500</td>\n",
       "      <td>43.122708</td>\n",
       "      <td>67.246463</td>\n",
       "    </tr>\n",
       "    <tr>\n",
       "      <th>307</th>\n",
       "      <td>West Bengal</td>\n",
       "      <td>2018</td>\n",
       "      <td>5.153311</td>\n",
       "      <td>42.241656</td>\n",
       "      <td>51.016861</td>\n",
       "    </tr>\n",
       "    <tr>\n",
       "      <th>308</th>\n",
       "      <td>West Bengal</td>\n",
       "      <td>2019</td>\n",
       "      <td>4.097365</td>\n",
       "      <td>40.934686</td>\n",
       "      <td>32.767220</td>\n",
       "    </tr>\n",
       "    <tr>\n",
       "      <th>309</th>\n",
       "      <td>West Bengal</td>\n",
       "      <td>2020</td>\n",
       "      <td>3.525632</td>\n",
       "      <td>39.373017</td>\n",
       "      <td>15.290124</td>\n",
       "    </tr>\n",
       "  </tbody>\n",
       "</table>\n",
       "<p>310 rows × 5 columns</p>\n",
       "</div>"
      ],
      "text/plain": [
       "              State  year       SO2        NO2      PM2.5\n",
       "0    Andhra Pradesh  2011  6.917445  14.339150  70.653459\n",
       "1    Andhra Pradesh  2012  7.021031  14.911603  72.703588\n",
       "2    Andhra Pradesh  2013  7.067833  15.658970  70.840641\n",
       "3    Andhra Pradesh  2014  7.587378  18.105960  73.421301\n",
       "4    Andhra Pradesh  2015  7.205587  21.808934  74.846019\n",
       "..              ...   ...       ...        ...        ...\n",
       "305     West Bengal  2016  6.975688  44.003759  83.476065\n",
       "306     West Bengal  2017  6.064500  43.122708  67.246463\n",
       "307     West Bengal  2018  5.153311  42.241656  51.016861\n",
       "308     West Bengal  2019  4.097365  40.934686  32.767220\n",
       "309     West Bengal  2020  3.525632  39.373017  15.290124\n",
       "\n",
       "[310 rows x 5 columns]"
      ]
     },
     "execution_count": 3,
     "metadata": {},
     "output_type": "execute_result"
    }
   ],
   "source": [
    "data"
   ]
  },
  {
   "cell_type": "markdown",
   "id": "b0062068",
   "metadata": {},
   "source": [
    "**Finding Expected value of All States (i.e For India) per Year**"
   ]
  },
  {
   "cell_type": "code",
   "execution_count": 4,
   "id": "938c837f",
   "metadata": {},
   "outputs": [],
   "source": [
    "expected_df=data.groupby(['year']).mean()"
   ]
  },
  {
   "cell_type": "code",
   "execution_count": 5,
   "id": "d9f89194",
   "metadata": {},
   "outputs": [],
   "source": [
    "data=data.merge(expected_df,on=['year'])"
   ]
  },
  {
   "cell_type": "markdown",
   "id": "f7b59afd",
   "metadata": {},
   "source": [
    "**Chi Square Test For Finding Outlier**\n",
    "\n",
    "$\\chi^2=\\sum_{i=1}^{i=N}\\frac{(o_i-E_i)^2}{E_i}$\n"
   ]
  },
  {
   "cell_type": "code",
   "execution_count": 6,
   "id": "caad3e90",
   "metadata": {},
   "outputs": [],
   "source": [
    "data['Chi Square Value']=((data.SO2_x-data.SO2_y)**2/data.SO2_y)+((data.NO2_x-data.NO2_y)**2/data.NO2_y)+((data['PM2.5_x']-data['PM2.5_y'])**2/data['PM2.5_y'])"
   ]
  },
  {
   "cell_type": "markdown",
   "id": "65d6048a",
   "metadata": {},
   "source": [
    "**Hypothesis Test**\n",
    "\n",
    "1) p-value obtain from Chi-Square Distribution\n",
    "\n",
    "2) Null Hypothesis test with Significance level 1%"
   ]
  },
  {
   "cell_type": "code",
   "execution_count": 7,
   "id": "bad3620a",
   "metadata": {},
   "outputs": [],
   "source": [
    "def pvalue(x):\n",
    "    return 1-chi2.cdf(x,df=2)"
   ]
  },
  {
   "cell_type": "code",
   "execution_count": 8,
   "id": "2feaed3b",
   "metadata": {},
   "outputs": [],
   "source": [
    "data['p-value']=data['Chi Square Value'].apply(lambda x:pvalue(x))"
   ]
  },
  {
   "cell_type": "markdown",
   "id": "a403d20e",
   "metadata": {},
   "source": [
    "If p-value > Significance value then it is not an outlier else it's an outlier"
   ]
  },
  {
   "cell_type": "code",
   "execution_count": 9,
   "id": "3ccb8d91",
   "metadata": {},
   "outputs": [],
   "source": [
    "def outlier(x,significant_value):\n",
    "    if x<significant_value:\n",
    "        return 1\n",
    "    else:\n",
    "        return 0"
   ]
  },
  {
   "cell_type": "code",
   "execution_count": 10,
   "id": "781073d3",
   "metadata": {},
   "outputs": [],
   "source": [
    "data['Outlier']=data['p-value'].apply(lambda x:outlier(x,0.01))"
   ]
  },
  {
   "cell_type": "code",
   "execution_count": 11,
   "id": "480f4084",
   "metadata": {},
   "outputs": [],
   "source": [
    "data['Mpc']=(data['SO2_x']+data['NO2_x']+data['PM2.5_x'])/3"
   ]
  },
  {
   "cell_type": "code",
   "execution_count": 12,
   "id": "1de4de1c",
   "metadata": {},
   "outputs": [],
   "source": [
    "data=data.sort_values(['State','year'])[['State','year','Mpc','p-value','Outlier']]"
   ]
  },
  {
   "cell_type": "code",
   "execution_count": 13,
   "id": "e1e35b5f",
   "metadata": {},
   "outputs": [],
   "source": [
    "data.columns=['State','Year','Mpc','p-value','outlier']"
   ]
  },
  {
   "cell_type": "code",
   "execution_count": 14,
   "id": "c22207cf",
   "metadata": {},
   "outputs": [],
   "source": [
    "state_co=pd.read_csv('../Dataset/State-Coordinates.csv')"
   ]
  },
  {
   "cell_type": "code",
   "execution_count": 15,
   "id": "4d11fde1",
   "metadata": {},
   "outputs": [],
   "source": [
    "data_map=data.merge(state_co,on=['State'])"
   ]
  },
  {
   "cell_type": "code",
   "execution_count": 16,
   "id": "856be3aa",
   "metadata": {},
   "outputs": [],
   "source": [
    "data.to_csv(\"../Dataset/Generated/chi-square/Air_Quality_chiscore.csv\",index=False)"
   ]
  },
  {
   "cell_type": "code",
   "execution_count": 17,
   "id": "b62f56c8",
   "metadata": {},
   "outputs": [],
   "source": [
    "data_map.to_csv(\"../Generate Map/Datasets/chi.csv\",index=False)"
   ]
  }
 ],
 "metadata": {
  "kernelspec": {
   "display_name": "Python 3",
   "language": "python",
   "name": "python3"
  },
  "language_info": {
   "codemirror_mode": {
    "name": "ipython",
    "version": 3
   },
   "file_extension": ".py",
   "mimetype": "text/x-python",
   "name": "python",
   "nbconvert_exporter": "python",
   "pygments_lexer": "ipython3",
   "version": "3.8.8"
  }
 },
 "nbformat": 4,
 "nbformat_minor": 5
}
